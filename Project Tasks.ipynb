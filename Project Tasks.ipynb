{
 "cells": [
  {
   "cell_type": "code",
   "execution_count": 2,
   "id": "a6afe762",
   "metadata": {},
   "outputs": [],
   "source": [
    "import pandas as pd\n",
    "import numpy as np\n",
    "import scipy.stats\n",
    "import networkx as nx\n",
    "import matplotlib.pyplot as plt\n",
    "import matplotlib as mpl\n",
    "%matplotlib inline"
   ]
  },
  {
   "cell_type": "markdown",
   "id": "70dc768b",
   "metadata": {},
   "source": [
    "From Student version code sent by Emma Towlson."
   ]
  },
  {
   "cell_type": "code",
   "execution_count": 3,
   "id": "cdc34723",
   "metadata": {},
   "outputs": [],
   "source": [
    "# change defaults to be less ugly\n",
    "mpl.rc('xtick', labelsize=14, color=\"#222222\") \n",
    "mpl.rc('ytick', labelsize=14, color=\"#222222\") \n",
    "mpl.rc('font', **{'family':'sans-serif','sans-serif':['Arial']})\n",
    "mpl.rc('font', size=16)\n",
    "mpl.rc('xtick.major', size=6, width=1)\n",
    "mpl.rc('xtick.minor', size=3, width=1)\n",
    "mpl.rc('ytick.major', size=6, width=1)\n",
    "mpl.rc('ytick.minor', size=3, width=1)\n",
    "mpl.rc('axes', linewidth=1, edgecolor=\"#222222\", labelcolor=\"#222222\")\n",
    "mpl.rc('text', usetex=False, color=\"#222222\")"
   ]
  },
  {
   "cell_type": "markdown",
   "id": "a0ed46de",
   "metadata": {},
   "source": [
    "Edges from the edges.csv"
   ]
  },
  {
   "cell_type": "code",
   "execution_count": 4,
   "id": "cb95ea40",
   "metadata": {},
   "outputs": [],
   "source": [
    "# using the pandas library to read csv containing edge list\n",
    "edges = pd.read_csv('edges.csv', sep=',',encoding = \"mbcs\")\n",
    "# extracting edgelist from pandas dataframe\n",
    "G = nx.from_pandas_edgelist(edges, 'Source', 'Target', ['Player_Name', 'Player_Position'], nx.MultiDiGraph())"
   ]
  },
  {
   "cell_type": "code",
   "execution_count": 5,
   "id": "35ae8026",
   "metadata": {},
   "outputs": [
    {
     "name": "stdout",
     "output_type": "stream",
     "text": [
      "578\n",
      "4292\n"
     ]
    }
   ],
   "source": [
    "# printing the number of nodes in the network\n",
    "print(len(G))\n",
    "# printing the number of edges in the network\n",
    "print(G.size())"
   ]
  },
  {
   "cell_type": "markdown",
   "id": "befca3c1",
   "metadata": {},
   "source": [
    "Add node arrtibutes to the formed graph"
   ]
  },
  {
   "cell_type": "code",
   "execution_count": 12,
   "id": "bda86054",
   "metadata": {},
   "outputs": [],
   "source": [
    "# using the pandas library to read csv containing node labels and attributes of the node\n",
    "nodes = pd.read_csv('nodes.csv', sep=',', encoding = 'mbcs')\n",
    "# setting the node labels as key and attributes as values to store them as a dictionary\n",
    "data = nodes.set_index('Id').to_dict('index').items()\n",
    "# adding the node information to graph formed from the edgelist\n",
    "G.add_nodes_from(data)"
   ]
  },
  {
   "cell_type": "markdown",
   "id": "0e36c615",
   "metadata": {},
   "source": [
    "Result 4.1: Code for Number of players departing from a club to a club playing in European Competitions in the last 4 season."
   ]
  },
  {
   "cell_type": "code",
   "execution_count": 10,
   "id": "8792a005",
   "metadata": {},
   "outputs": [],
   "source": [
    "for u,data in G.nodes(data=True):\n",
    "    if data[\"Played_In_European_Comp\"] == \"No\":\n",
    "        count = 0\n",
    "        for club_from,club_to in G.out_edges(u):\n",
    "            if G.nodes[club_to][\"Played_In_European_Comp\"] == \"Yes\":\n",
    "                count+=1\n",
    "        nx.set_node_attributes(G, {u:{'feeder_count':count}})"
   ]
  },
  {
   "cell_type": "code",
   "execution_count": 11,
   "id": "e2ba9f00",
   "metadata": {},
   "outputs": [],
   "source": [
    "# storing the clubs that had players depart to clubs playing in european competition in a list\n",
    "list = [(x, y['feeder_count']) for x,y in G.nodes(data=True) if y[\"Played_In_European_Comp\"] == \"No\"]"
   ]
  },
  {
   "cell_type": "markdown",
   "id": "ef7c6677",
   "metadata": {},
   "source": [
    "Reference for the code below: https://www.geeksforgeeks.org/python-program-to-sort-a-list-of-tuples-by-second-item/"
   ]
  },
  {
   "cell_type": "code",
   "execution_count": 13,
   "id": "df49f842",
   "metadata": {},
   "outputs": [
    {
     "name": "stdout",
     "output_type": "stream",
     "text": [
      "[('Sevilla FC', 22), ('SL Benfica', 21), ('ACF Fiorentina', 16), ('Sporting CP', 16), ('FC Porto', 16), ('Everton FC', 13), ('Red Bull Salzburg', 13), ('Genoa CFC', 11), ('US Sassuolo', 10), ('UC Sampdoria', 10), ('Ajax Amsterdam', 10), ('PSV Eindhoven', 9), ('Torino FC', 9), ('Watford FC', 9), ('Celta de Vigo', 9), ('Clube de Regatas do Flamengo', 8), ('Stoke City', 8), ('Swansea City', 8), ('FC Augsburg', 7), ('SD Eibar', 7), ('Southampton FC', 7), ('Udinese Calcio', 7), ('Hamburger SV', 6), ('Hertha BSC', 6), ('Empoli FC ', 6), ('Leeds United', 6), ('RSC Anderlecht', 6), ('Middlesbrough FC', 6), ('Málaga CF', 6), ('SC Braga', 6), ('UD Las Palmas', 5), ('Cagliari Calcio', 5), ('Fulham FC', 5), ('OGC Nice', 5), ('Montpellier HSC', 5), ('Levante UD', 5), ('BSC Young Boys', 5), ('Dijon FCO', 5), ('SCO Angers', 5), ('FC Girondins Bordeaux', 5), ('Hannover 96', 4), ('Brighton & Hove Albion', 4), ('FC Basel 1893', 4), ('FC Copenhagen', 4), ('AC Le Havre', 4), ('Celtic FC', 4), ('Deportivo Alavés', 4), ('Sociedade Esportiva Palmeiras', 4), ('FC Nantes', 4), ('Olympiacos Piraeus', 4), ('AFC Bournemouth', 4), ('Stade Reims', 4), ('West Bromwich Albion', 4), ('SM Caen', 4), ('Red Star Belgrade', 4), ('Zenit St. Petersburg', 4), ('GNK Dinamo Zagreb', 4), ('Hull City', 4), ('Amiens SC', 3), ('SC Freiburg', 3), ('SV Werder Bremen', 3), ('1.FSV Mainz 05', 3), ('Crystal Palace', 3), ('Newcastle United', 3), ('Bologna FC 1909', 3), ('Hellas Verona', 3), ('Besiktas JK', 3), ('Girona FC', 3), ('SPAL', 3), ('Aston Villa', 3), ('FC Toulouse', 3), ('Sunderland AFC', 3), ('VfB Stuttgart', 3), ('Deportivo de La Coruña', 3), ('Derby County', 3), ('Fenerbahce SK', 3), ('AS Cittadella', 3), ('RC Strasbourg Alsace', 3), ('Delfino Pescara 1936', 3), ('São Paulo Futebol Clube', 3), ('CA Osasuna', 3), ('Club Atlético River Plate', 3), ('Club Atlético Boca Juniors', 3), ('Dynamo Kyiv', 3), ('US Salernitana 1919', 3), ('Deportivo Guadalajara', 3), ('KRC Genk', 3), ('KV Oostende', 3), ('SK Slavia Prague', 3), ('1. FC Köln', 2), ('FC Luzern', 2), ('Huddersfield Town', 2), ('Jiangsu Suning', 2), ('Parma Calcio 1913', 2), ('Brentford FC', 2), ('AJ Auxerre', 2), ('RC Lens', 2), ('FC Metz', 2), ('FK Partizan Belgrade', 2), ('Club de Regatas Vasco da Gama', 2), ('Real Valladolid CF', 2), ('HNK Hajduk Split', 2), ('Preston North End', 2), ('Rayo Vallecano', 2), ('Belenenses SAD', 2), ('Club Atlético Vélez Sarsfield', 2), ('Tigres UANL', 2), ('EA Guingamp', 2), ('Fluminense Football Club', 2), ('Grêmio Foot-Ball Porto Alegrense', 2), ('CD Tenerife', 2), ('Club América', 2), ('Club Athletico Paranaense', 2), ('Dalian Professional', 2), ('Guangzhou Evergrande Taobao', 2), ('FC Ingolstadt 04', 2), ('Heracles Almelo', 2), ('Shakhtar Donetsk', 2), ('FC Sion', 2), ('FC Sochaux-Montbéliard', 2), ('Santos FC', 2), ('Sporting Gijón', 2), ('PEC Zwolle', 2), ('New York City FC', 2), ('Rubin Kazan', 2), ('1.FC Kaiserslautern', 1), ('1.FC Union Berlin', 1), ('Stade Brestois 29', 1), ('Chievo Verona', 1), ('Nîmes Olympique', 1), ('Standard Liège', 1), ('Trabzonspor', 1), ('AC Perugia Calcio', 1), ('Benevento Calcio', 1), ('AC Pisa 1909', 1), ('AC Sparta Prague', 1), ('Ascoli Calcio', 1), ('Feyenoord Rotterdam', 1), ('AEK Athens', 1), ('Ajax Amsterdam U21', 1), ('Al-Hilal Riyadh', 1), ('Al-Jazira (Abu Dhabi)', 1), ('Cádiz CF', 1), ('Al-Rayyan SC', 1), ('Altay SK', 1), ('FC Lorient', 1), ('FC Midtjylland', 1), ('Birmingham City', 1), ('FC Utrecht', 1), ('Galatasaray A.S.', 1), ('Istanbul Basaksehir FK', 1), ('Los Angeles Galaxy', 1), ('RCD Mallorca', 1), ('Rio Ave FC', 1), ('SD Huesca', 1), ('Sport Club Corinthians Paulista', 1), ('Vitória S.C.', 1), ('AS Nancy-Lorraine', 1), ('Shanghai Greenland Shenhua', 1), ('Chicago Fire FC', 1), ('FK Krasnodar', 1), ('Asociación Atlética Argentinos Juniors', 1), ('Associação Atlética Ponte Preta', 1), ('Luton Town', 1), ('Real Zaragoza', 1), ('Dalian Yifang', 1), ('Sagan Tosu', 1), ('Austria Vienna', 1), ('AZ Alkmaar', 1), ('Barcelona SC Guayaquil', 1), ('Boavista FC', 1), ('Bristol City', 1), ('Club Brugge KV', 1), ('Norwich City', 1), ('Brescia Calcio', 1), ('Fortuna Düsseldorf', 1), ('Legia Warszawa', 1), ('Brøndby IF', 1), ('Bursaspor', 1), ('CA Peñarol', 1), ('PFC Ludogorets Razgrad', 1), ('Clube Atlético Mineiro', 1), ('FK Cukaricki', 1), ('Clermont Foot 63', 1), ('Elche CF', 1), ('Club Atlético Boston River', 1), ('Club Atlético Talleres', 1), ('Club Deportivo Maldonado', 1), ('Club Estudiantes de La Plata', 1), ('Columbus Crew SC', 1), ('Córdoba CF', 1), ('Coritiba Foot Ball Club', 1), ('KAA Gent', 1), ('Vancouver Whitecaps FC', 1), ('Dynamo Moscow', 1), ('Exeter City', 1), ('FC Arouca', 1), ('FC Astana', 1), ('FC Barcelona B', 1), ('FC Dallas', 1), ('Lokomotiv Moscow', 1), ('FC Tokyo', 1), ('FC Viitorul Constanta', 1), ('FK Bodø/Glimt', 1), ('Genclerbirligi Ankara', 1), ('Racing Club', 1), ('Real Madrid Castilla', 1), ('GFC Ajaccio', 1), ('Halmstads BK', 1), ('Sint-Truidense VV', 1), ('Istanbulspor', 1), ('Ituano Futebol Clube (SP)', 1), ('Juventus Primavera', 1), ('KV Mechelen', 1), ('LASK', 1), ('Leixões SC', 1), ('Melbourne City FC', 1), ('NEC Nijmegen', 1), ('New York Red Bulls', 1), ('NK Lokomotiva Zagreb', 1), ('NK Osijek', 1), ('Olympique de Marseille B', 1), ('PAS Giannina', 1), ('Piast Gliwice', 1), ('Real SC', 1), ('Red Star FC', 1), ('RSC Charleroi', 1), ('SC Paderborn 07', 1), ('SG Dynamo Dresden', 1), ('Shanghai Shenhua', 1), ('Shanghai SIPG', 1), ('Silkeborg IF', 1), ('Sparta Rotterdam', 1), ('SSV Jahn Regensburg', 1), ('Tianjin Tianhai (-2019)', 1), ('Três Passos Atlético Clube', 1), ('Wisla Plock', 1), ('Zaglebie Lubin', 1), ('Zorya Lugansk', 1), ('1.FC Nuremberg', 0), ('CD Nacional', 0), ('FC Viktoria Köln', 0), ('Royal Antwerp FC', 0), ('Tianjin Quanjian', 0), ('1.FC Magdeburg', 0), ('Denizlispor', 0), ('Eintracht Braunschweig', 0), ('Fortuna Sittard', 0), ('Gaziantep FK', 0), ('Grasshopper Club Zurich', 0), ('VfL Bochum', 0), ('AC Ajaccio', 0), ('AC Cesena', 0), ('AS Livorno', 0), ('CF Monterrey', 0), ('CF Pachuca', 0), ('Fatih Karagümrük S.K.', 0), ('Reggina 1914', 0), ('SC Heerenveen', 0), ('Spezia Calcio', 0), ('Club Atlético San Lorenzo de Almagro', 0), ('Club Necaxa', 0), ('FC Erzgebirge Aue', 0), ('Górnik Zabrze', 0), ('US Lecce', 0), ('Vitesse Arnhem', 0), ('Cardiff City', 0), ('Nottingham Forest', 0), ('Qaraba? FK', 0), ('Rangers FC', 0), ('Sheffield United', 0), ('FC Crotone', 0), ('Akhmat Grozny', 0), ('Alanyaspor', 0), ('Al-Ittihad Jeddah', 0), ('Al-Nasr (Dubai)', 0), ('Al-Nassr Riad', 0), ('CD Leganés', 0), ('Paris FC', 0), ('Wuhan Zall', 0), ('Antalyaspor', 0), ('APOEL Nicosia', 0), ('Arminia Bielefeld', 0), ('Charlton Athletic', 0), ('Frosinone Calcio', 0), ('PAOK Thessaloniki', 0), ('Walsall FC', 0), ('Cercle Brugge ', 0), ('F.C. Famalicão', 0), ('Hatayspor', 0), ('Reading FC', 0), ('Sport Club Internacional', 0), ('AS Monaco B', 0), ('Club Tijuana', 0), ('NAC Breda', 0), ('Spartak Moscow', 0), ('UD Almería', 0), ('VVV-Venlo', 0), ('Arsenal Tula', 0), ('MKE Ankaragücü', 0), ('Rosenborg BK', 0), ('Shenzhen FC', 0), ('Ãšjpest FC', 0), ('Associação Chapecoense de Futebol', 0), ('Asteras Tripolis', 0), ('Al-Gharafa SC', 0), ('AC Monza', 0), ('Panathinaikos Athens', 0), ('US Avellino 1912', 0), ('US Cremonese', 0), ('Toronto FC', 0), ('Atlanta United FC', 0), ('Atlético Huila', 0), ('Al-Sadd SC', 0), ('Beijing Renhe', 0), ('Kayserispor', 0), ('Atlético Madrid B', 0), ('CF Fuenlabrada', 0), ('SV Darmstadt 98', 0), ('Tianjin Teda', 0), ('Carpi FC 1909', 0), ('Portland Timbers', 0), ('Caykur Rizespor', 0), ('FC Bari 1908', 0), ('Foggia Calcio', 0), ('Montreal Impact', 0), ('Ternana Calcio', 0), ('Chongqing Dangdai Lifan', 0), ('Dinamo Moscow', 0), ('Willem II Tilburg', 0), ('Ipswich Town', 0), ('ADO Den Haag', 0), ('Coventry City', 0), ('FC Cincinnati', 0), ('FK Rostov', 0), ('Lech Poznan', 0), ('Millwall FC', 0), ('NK Maribor', 0), ('Queens Park Rangers', 0), ('Royale Union Saint Gilloise', 0), ('Shanghai Port', 0), ('Wigan Athletic', 0), ('Sheffield Wednesday', 0), ('Al-Ain', 0), ('Juventus U23', 0), ('SK Sturm Graz', 0), ('Calcio Padova', 0), ('CD Cruz Azul', 0), ('CD Feirense', 0), ('Al-Ahli SC', 0), ('CD Lugo', 0), ('CD Mirandés', 0), ('Club Atlético Independiente', 0), ('SV Zulte Waregem', 0), ('UNAM Pumas', 0), ('Chamois Niortais FC', 0), ('FC Groningen', 0), ('Kasimpasa', 0), ('MOL Fehérvár FC', 0), ('Club Africain Tunis', 0), ('Club Atlético Banfield', 0), ('Club Atlético Belgrano', 0), ('Club Atlético Huracán', 0), ('Club Atlético Lanús', 0), ('Club Atlético Tigre', 0), ('Club Deportivo Godoy Cruz Antonio Tomba', 0), ('Club Deportivo Universidad Católica', 0), ('Club Nacional', 0), ('Cosenza Calcio', 0), ('Cracovia', 0), ('Cruzeiro Esporte Clube', 0), ('Barnsley FC', 0), ('ESTAC Troyes', 0), ('Pafos FC', 0), ('CSKA Moscow', 0), ('CSKA-Sofia', 0), ('Defensor Sporting Club', 0), ('Deportes Quindío', 0), ('Al-Ahli Jeddah', 0), ('FC Lausanne-Sport', 0), ('Maccabi Haifa', 0), ('Western Sydney Wanderers', 0), ('Al-Ettifaq', 0), ('Al-Faisaly Harmah', 0), ('Djurgardens IF', 0), ('Valenciennes FC', 0), ('KV Kortrijk', 0), ('Philadelphia Union', 0), ('Wolfsberger AC', 0), ('El Ahly Cairo', 0), ('Esbjerg fB', 0), ('Esporte Clube Bahia', 0), ('Blackburn Rovers', 0), ('D.C. United', 0), ('Fleetwood Town', 0), ('Lincoln City', 0), ('Sivasspor', 0), ('FC St. Gallen 1879', 0), ('Hebei China Fortune', 0), ('Vissel Kobe', 0), ('FC Bayern Munich II', 0), ('FC Dinamo Bucharest', 0), ('Al-Hazem SC', 0), ('Rodez AF', 0), ('US Orléans', 0), ('Red Bull Bragantino', 0), ('FC Nordsjaelland', 0), ('FC Porto B', 0), ('FC St. Pauli', 0), ('SK Brann', 0), ('FC Sheriff Tiraspol', 0), ('FC Slovan Liberec', 0), ('Al-Shabab Riyadh', 0), ('Gamba Osaka', 0), ('FC Viktoria Plzen', 0), ('FC Zürich', 0), ('FCSB', 0), ('FK Vozdovac', 0), ('Club León', 0), ('Yeni Malatyaspor', 0), ('FUS Rabat', 0), ('GD Estoril Praia', 0), ('Aalborg BK', 0), ('Hibernian FC', 0), ('Inter Milan Primavera', 0), ('Wis?a Kraków', 0), ('CS Emelec', 0), ('Henan Jianye', 0), ('Real Oviedo', 0), ('FC Cartagena', 0), ('Guizhou Hengfeng', 0), ('Goiás Esporte Clube', 0), ('Botafogo de Futebol e Regatas', 0), ('HNK Rijeka', 0), ('Holstein Kiel', 0), ('Pyramids FC', 0), ('IF Brommapojkarna', 0), ('IFK Göteborg', 0), ('IFK Norrköping', 0), ('Independiente del Valle', 0), ('Albacete Balompié', 0), ('Novara Calcio 1908', 0), ('US Palermo', 0), ('Venezia FC', 0), ('Al-Duhail SC', 0), ('FC Lugano', 0), ('Inter Miami CF', 0), ('Sampdoria Primavera', 0), ('KAS Eupen', 0), ('Kashima Antlers', 0), ('Konyaspor', 0), ('Krylya Sovetov Samara', 0), ('LB Châteauroux', 0), ('Le Mans FC', 0), ('Lechia Gdansk', 0), ('Oud-Heverlee Leuven', 0), ('Al-Wahda Mekka', 0), ('Vejle Boldklub', 0), ('Liaoning FC', 0), ('Aarhus GF', 0), ('Blackpool FC', 0), ('Bolton Wanderers', 0), ('Brisbane Roar', 0), ('Royal Excel Mouscron', 0), ('Lyngby BK', 0), ('Maccabi Tel Aviv', 0), ('Malmö FF', 0), ('Mamelodi Sundowns FC', 0), ('Dundee United FC', 0), ('Aberdeen FC', 0), ('LDU Quito', 0), ('Milton Keynes Dons', 0), ('Shandong Luneng Taishan', 0), ('Millonarios FC', 0), ('Mineros de Guayana', 0), ('Al Ittihad Kalba Sports Club', 0), ('Moreirense FC', 0), ('MSK Zilina', 0), ('MSV Duisburg', 0), ('Göztepe S.K.', 0), ('Servette FC', 0), ('NK Olimpija Ljubljana', 0), ('Odds BK', 0), ('Aris Thessaloniki', 0), ('Santos Laguna', 0), ('Osmanlispor FK', 0), ('Östersunds FK', 0), ('Paradou AC', 0), ('Pescara Primavera', 0), ('Pogon Szczecin', 0), ('Portsmouth FC', 0), ('Rapid Vienna', 0), ('Marbella FC', 0), ('Sporting Kansas City', 0), ('Los Angeles FC', 0), ('SC Bastia', 0), ('1.FC Heidenheim 1846', 0), ('SpVgg Greuther Fürth', 0), ('Maccabi Petah Tikva', 0), ('Pontevedra CF', 0), ('Sevilla Atlético', 0), ('SL Benfica B', 0), ('Slavia Sofia', 0), ('Doncaster Rovers', 0), ('Universitatea Craiova', 0), ('Spartaks Jurmala', 0), ('Sportivo Luqueño', 0), ('SSC Bari', 0), ('Atlético Nacional', 0), ('SSD Palermo', 0), ('Stabæk Fotball', 0), ('Tokushima Vortis', 0), ('Al-Dhafra SCC', 0), ('Minnesota United FC', 0), ('C.S. Marítimo', 0), ('Stevenage FC', 0), ('Deportivo Toluca', 0), ('Orlando City SC', 0), ('Tombense Futebol Clube (MG)', 0), ('Greenock Morton FC', 0), ('Guangzhou R&F', 0), ('Leyton Orient', 0), ('Southend United', 0), ('Twente Enschede FC', 0), ('Atlas Guadalajara', 0), ('Beijing Guoan', 0), ('Trapani Calcio', 0), ('Esporte Clube Vitória', 0), ('Valencia Mestalla', 0), ('VfL Osnabrück', 0), ('San Jose Earthquakes', 0), ('Waasland-Beveren', 0), ('Rotherham United', 0), ('Yokohama F. Marinos', 0)]\n"
     ]
    }
   ],
   "source": [
    "# function implementing selection sort on a list of tuples\n",
    "def Sort_Tuple(tup): \n",
    "      \n",
    "    # getting length of list of tuples\n",
    "    lst = len(tup) \n",
    "    for i in range(0, lst): \n",
    "          \n",
    "        for j in range(0, lst-i-1): \n",
    "            if (tup[j][1] < tup[j + 1][1]): \n",
    "                temp = tup[j] \n",
    "                tup[j]= tup[j + 1] \n",
    "                tup[j + 1]= temp \n",
    "    return tup\n",
    "\n",
    "# sorting the clubs according to descending feeder count\n",
    "print(Sort_Tuple(list))"
   ]
  },
  {
   "cell_type": "markdown",
   "id": "89c4108b",
   "metadata": {},
   "source": [
    "Result 4.2: Code for Number of players acquired from a club playing in European Competitions in the last 4 season."
   ]
  },
  {
   "cell_type": "code",
   "execution_count": 14,
   "id": "f58fff58",
   "metadata": {},
   "outputs": [],
   "source": [
    "for u,data in G.nodes(data=True):\n",
    "    if data[\"Played_In_European_Comp\"] == \"Yes\":\n",
    "        count = 0\n",
    "        for club_from,club_to in G.in_edges(u):\n",
    "            if G.nodes[club_from][\"Played_In_European_Comp\"] == \"Yes\":\n",
    "                count+=1\n",
    "        nx.set_node_attributes(G, {u:{'ratio':count}})"
   ]
  },
  {
   "cell_type": "code",
   "execution_count": 15,
   "id": "acbcffd7",
   "metadata": {},
   "outputs": [
    {
     "name": "stdout",
     "output_type": "stream",
     "text": [
      "[('AS Roma', 24), ('Valencia CF', 22), ('Juventus FC', 21), ('AS Monaco', 21), ('AC Milan', 20), ('Borussia Dortmund', 19), ('Getafe CF', 19), ('Inter Milan', 19), ('Bayern Munich', 19), ('FC Schalke 04', 18), ('Chelsea FC', 17), ('Arsenal FC', 16), ('Real Betis Balompié', 16), ('Atalanta BC', 15), ('Eintracht Frankfurt', 15), ('Wolverhampton Wanderers', 15), ('Paris Saint-Germain', 15), ('Atlético Madrid', 14), ('Villarreal CF', 14), ('AS Saint-Étienne', 12), ('TSG 1899 Hoffenheim', 12), ('SSC Napoli', 12), ('Olympique Lyon', 11), ('West Ham United', 11), ('Real Madrid', 11), ('Olympique Marseille', 10), ('Leicester City', 10), ('Bayer 04 Leverkusen', 9), ('Manchester City', 9), ('Tottenham Hotspur', 9), ('LOSC Lille', 9), ('Liverpool FC', 9), ('Granada CF', 9), ('FC Barcelona', 8), ('Real Sociedad', 8), ('RB Leipzig', 8), ('Borussia Mönchengladbach', 8), ('RCD Espanyol Barcelona', 7), ('Stade Rennais FC', 6), ('SS Lazio', 6), ('Manchester United', 5), ('VfL Wolfsburg', 4), ('Burnley FC', 4), ('Athletic Bilbao', 2)]\n"
     ]
    }
   ],
   "source": [
    "# storing the clubs that had players acquired from clubs playing in european competition in a list\n",
    "list1 = [(x, y['ratio']) for x,y in G.nodes(data=True) if y[\"Played_In_European_Comp\"] == \"Yes\"]\n",
    "# sorting the clubs according to descending order of players acquired\n",
    "print(Sort_Tuple(list1))"
   ]
  },
  {
   "cell_type": "markdown",
   "id": "a29c7df2",
   "metadata": {},
   "source": [
    "Analysis to find Spearman's coefficient"
   ]
  },
  {
   "cell_type": "code",
   "execution_count": 16,
   "id": "6a32548a",
   "metadata": {},
   "outputs": [],
   "source": [
    "# preparing the list of number of players acquired to be ranked\n",
    "list2 = [ y['ratio'] for x,y in G.nodes(data=True) if y[\"Played_In_European_Comp\"] == \"Yes\"]\n",
    "list2.sort(reverse = True)\n",
    "analysis_list = [-1 * i for i in list2]"
   ]
  },
  {
   "cell_type": "code",
   "execution_count": 18,
   "id": "67ef5fa1",
   "metadata": {},
   "outputs": [
    {
     "name": "stdout",
     "output_type": "stream",
     "text": [
      "[ 1  2  3  3  5  6  6  6  6 10 11 12 12 14 14 14 14 18 18 20 20 20 23 23\n",
      " 23 26 26 28 28 28 28 28 28 34 34 34 34 38 39 39 41 42 42 44]\n"
     ]
    }
   ],
   "source": [
    "# ranking clubs according to the number of players acquired for clubs playing in European Competitions\n",
    "x = scipy.stats.rankdata(analysis_list, method = 'min')\n",
    "print(x)"
   ]
  },
  {
   "cell_type": "code",
   "execution_count": 19,
   "id": "9d26ce92",
   "metadata": {},
   "outputs": [
    {
     "name": "stdout",
     "output_type": "stream",
     "text": [
      "[13, 39, 5, 40, 53, 14, 80, 26, 1, 44, 11, 10, 82, 27, 49, 72, 8, 6, 22, 118, 63, 20, 19, 76, 2, 57, 51, 25, 3, 15, 109, 9, 78, 4, 79, 21, 48, 81, 87, 34, 7, 103, 73, 83]\n"
     ]
    }
   ],
   "source": [
    "# extracting the clubs UEFA club coefficients from https://www.uefa.com/nationalassociations/uefarankings/club/#/yr/2021\n",
    "club_coefficients = [13,39,5,40,53,14,80,26,1,44,11,10,82,27,49,72,8,6,22,118,63,20,19,76,2,57,51,25,3,15,109,9,78,4,79,21,48,81,87,34,7,103,73,83]\n",
    "print(club_coefficients)"
   ]
  },
  {
   "cell_type": "code",
   "execution_count": 22,
   "id": "7e24a37e",
   "metadata": {},
   "outputs": [
    {
     "name": "stdout",
     "output_type": "stream",
     "text": [
      "0.2672000799207757\n",
      "0.07953043933514412\n"
     ]
    }
   ],
   "source": [
    "result = scipy.stats.spearmanr(x, club_coefficients)\n",
    "# printing the spearman correlation coefficient which measures the strength of the monotonic relationship between two ranked variables\n",
    "print(result.correlation)\n",
    "# printing the p value which is the probablity that the correlation is actually 0. In this case we cannot confrim our correlation since P > 0.05\n",
    "print(result.pvalue)"
   ]
  },
  {
   "cell_type": "markdown",
   "id": "1f5ed382",
   "metadata": {},
   "source": [
    "Reference for Code below: https://realpython.com/numpy-scipy-pandas-correlation-python/#rank-correlation"
   ]
  },
  {
   "cell_type": "code",
   "execution_count": 52,
   "id": "1d2eb0e8",
   "metadata": {},
   "outputs": [
    {
     "data": {
      "image/png": "[encoded data removed]",
      "text/plain": [
       "<Figure size 432x288 with 1 Axes>"
      ]
     },
     "metadata": {
      "needs_background": "light"
     },
     "output_type": "display_data"
    }
   ],
   "source": [
    "slope, intercept, r, p, stderr = scipy.stats.linregress(x, club_coefficients)\n",
    "\n",
    "fig, ax = plt.subplots()\n",
    "ax.plot(x, club_coefficients, linewidth=0, marker='s', label='Data points')\n",
    "ax.plot(x, intercept + slope * x)\n",
    "ax.set_xlabel('Ranking based on Analysis')\n",
    "ax.set_ylabel('UEFA Club Coefficients Ranking')\n",
    "ax.legend(facecolor='white')\n",
    "plt.xlim(left = 1)\n",
    "plt.ylim(bottom = 1)\n",
    "plt.show()"
   ]
  },
  {
   "cell_type": "markdown",
   "id": "c7e2b0e6",
   "metadata": {},
   "source": [
    "Network Statistics for football transfer market network.\n",
    "\n",
    "Reference for calculating average clustering:  https://stackoverflow.com/questions/54072729/networkx-compute-clustering-of-multdigraph"
   ]
  },
  {
   "cell_type": "code",
   "execution_count": 23,
   "id": "160e3855",
   "metadata": {},
   "outputs": [
    {
     "name": "stdout",
     "output_type": "stream",
     "text": [
      "Average Out Degree of Transfer Market Network:  7.42560553633218\n",
      "Average In Degree of Transfer Market Network:  7.42560553633218\n",
      "Number of Strongly Connected Components in the Transfer Market Network:  271\n",
      "Average Clustering Coefficient of Transfer Market Network:  0.12322485010850749\n",
      "Average Path Length of Transfer Market Network:  1.8874682914250418\n"
     ]
    }
   ],
   "source": [
    "# extracting the in degree sequence\n",
    "in_degree_tmn = [G.in_degree(node) for node in G]\n",
    "# extracting the out degree sequence\n",
    "out_degree_tmn = [G.out_degree(node) for node in G]\n",
    "print(\"Average Out Degree of Transfer Market Network: \",np.mean(out_degree_tmn))\n",
    "print(\"Average In Degree of Transfer Market Network: \",np.mean(in_degree_tmn))\n",
    "print(\"Number of Strongly Connected Components in the Transfer Market Network: \",nx.number_strongly_connected_components(G))\n",
    "# converting the directed multigraph network into a directed graph\n",
    "WG = nx.DiGraph()\n",
    "for u,v in G.edges():\n",
    "    if WG.has_edge(u,v):\n",
    "        WG[u][v]['weight'] += 1\n",
    "    else:\n",
    "        WG.add_edge(u, v, weight=1)\n",
    "\n",
    "print(\"Average Clustering Coefficient of Transfer Market Network: \",nx.average_clustering(WG))\n",
    "print(\"Average Path Length of Transfer Market Network: \",nx.average_shortest_path_length(G))"
   ]
  },
  {
   "cell_type": "markdown",
   "id": "b45518fc",
   "metadata": {},
   "source": [
    "Null Model Network Statistics. \n",
    "\n",
    "Reference for calculating average clustering:  https://stackoverflow.com/questions/54072729/networkx-compute-clustering-of-multdigraph"
   ]
  },
  {
   "cell_type": "code",
   "execution_count": 25,
   "id": "e6d2060f",
   "metadata": {},
   "outputs": [
    {
     "name": "stdout",
     "output_type": "stream",
     "text": [
      "Average In Degree of Transfer Market Network:  7.425605536332181\n",
      "Average Out Degree of Transfer Market Network:  7.425605536332181\n",
      " Avg.of Strongly Connected Components in the Transfer Market Network:  278.258\n",
      "Standard Deviation:  2.849111440431911\n",
      "Average Clustering Coefficient of Transfer Market Network:  0.0993236253284608\n",
      "Standard Deviation:  0.004918137908678874\n"
     ]
    }
   ],
   "source": [
    "# list storing the number of strongly connected components for the 1000 configuration models\n",
    "connected_components = []\n",
    "# list storing the average clustering coefficents for the 1000 configuration models\n",
    "clustering_coefficients = []\n",
    "# list storing the average path lengths for the 1000 configuration models\n",
    "average_path_lengths = []\n",
    "# list storing the average in degree for the 1000 configuration models\n",
    "avg_in_degree = []\n",
    "# list storing the average out degree for the 1000 configuration models\n",
    "avg_out_degree = []\n",
    "\n",
    "for x in range(1000):\n",
    "    configuration_model = nx.directed_configuration_model(in_degree_tmn, out_degree_tmn)\n",
    "    connected_components.append(nx.number_strongly_connected_components(configuration_model))\n",
    "    # converting the directed multigraph network into a directed graph\n",
    "    WG = nx.DiGraph()\n",
    "    for u,v in configuration_model.edges():\n",
    "        if WG.has_edge(u,v):\n",
    "            WG[u][v]['weight'] += 1\n",
    "        else:\n",
    "            WG.add_edge(u, v, weight=1)\n",
    "    \n",
    "    clustering_coefficients.append(nx.average_clustering(WG))\n",
    "    in_degree = [configuration_model.in_degree(node) for node in configuration_model]\n",
    "    out_degree = [configuration_model.out_degree(node) for node in configuration_model]\n",
    "    avg_in_degree.append(np.mean(in_degree))\n",
    "    avg_out_degree.append(np.mean(out_degree))\n",
    "\n",
    "#printing the average of the average in degrees of the 1000 configuration models\n",
    "print(\"Average In Degree of Transfer Market Network: \",np.mean(avg_in_degree))\n",
    "#printing the average of the average out degrees of the 1000 configuration models\n",
    "print(\"Average Out Degree of Transfer Market Network: \",np.mean(avg_out_degree))\n",
    "#printing the average of the number of strongly connected components of the 1000 configuration models\n",
    "print(\" Avg.of Strongly Connected Components in the Transfer Market Network: \",np.mean(connected_components))\n",
    "#printing the standard deviation of the number of strongly connected components of the 1000 configuration models\n",
    "print(\"Standard Deviation: \",np.std(connected_components))\n",
    "#printing the average of average clustering coefficients of the 1000 configuration models\n",
    "print(\"Average Clustering Coefficient of Transfer Market Network: \",np.mean(clustering_coefficients))\n",
    "#printing the standard of average clustering coefficients of the 1000 configuration models\n",
    "print(\"Standard Deviation: \",np.std(clustering_coefficients))\n"
   ]
  },
  {
   "cell_type": "code",
   "execution_count": null,
   "id": "acacc0c3",
   "metadata": {},
   "outputs": [],
   "source": []
  }
 ],
 "metadata": {
  "kernelspec": {
   "display_name": "Python 3 (ipykernel)",
   "language": "python",
   "name": "python3"
  },
  "language_info": {
   "codemirror_mode": {
    "name": "ipython",
    "version": 3
   },
   "file_extension": ".py",
   "mimetype": "text/x-python",
   "name": "python",
   "nbconvert_exporter": "python",
   "pygments_lexer": "ipython3",
   "version": "3.9.7"
  }
 },
 "nbformat": 4,
 "nbformat_minor": 5
}
